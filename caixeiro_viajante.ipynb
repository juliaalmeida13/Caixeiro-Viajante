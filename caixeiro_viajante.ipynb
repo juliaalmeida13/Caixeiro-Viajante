{
  "cells": [
    {
      "cell_type": "markdown",
      "metadata": {
        "id": "view-in-github",
        "colab_type": "text"
      },
      "source": [
        "<a href=\"https://colab.research.google.com/github/kaarpage/Caixeiro-Viajante/blob/main/caixeiro_viajante.ipynb\" target=\"_parent\"><img src=\"https://colab.research.google.com/assets/colab-badge.svg\" alt=\"Open In Colab\"/></a>"
      ]
    },
    {
      "cell_type": "markdown",
      "metadata": {
        "id": "UYeV_EvPahRG"
      },
      "source": [
        "# O Problema do Caixeiro Viajante\n",
        "##### Nome: Júlia Almeida\n",
        "##### RA: 772116\n",
        "\n",
        "Suponha que um caixeiro viajante tenha que visitar n cidades diferentes, iniciando e\n",
        "encerrando sua viagem na primeira cidade. Suponha, também, que não importa a\n",
        "ordem com que as cidades são visitadas e que de cada uma delas o caixeiro pode ir\n",
        "diretamente para qualquer outra. O problema do caixeiro viajante consiste em descobrir\n",
        "a rota que torna mínima a viagem total.\n",
        "\n",
        "Implemente em Python um Algoritmo Evolutivo para a resolução do problema do\n",
        "Caixeiro viajante considerando 6 (seis) cidades"
      ]
    },
    {
      "cell_type": "code",
      "execution_count": 1,
      "metadata": {
        "id": "0NhCEztSahRS"
      },
      "outputs": [],
      "source": [
        "import numpy as np\n",
        "import seaborn as sns\n",
        "%matplotlib inline"
      ]
    },
    {
      "cell_type": "markdown",
      "metadata": {
        "id": "5q0z3WRrahRW"
      },
      "source": [
        "### Passo 1: cidades"
      ]
    },
    {
      "cell_type": "code",
      "execution_count": 2,
      "metadata": {
        "colab": {
          "base_uri": "https://localhost:8080/"
        },
        "id": "lk3GXfCZahRZ",
        "outputId": "96f74cf0-ec92-44f8-ed3b-cf17d47046c3"
      },
      "outputs": [
        {
          "output_type": "execute_result",
          "data": {
            "text/plain": [
              "array([[ 0, 46,  6, 51, 97, 80],\n",
              "       [46,  0, 60, 34, 74, 77],\n",
              "       [ 6, 60,  0, 10, 75, 38],\n",
              "       [51, 34, 10,  0, 23, 21],\n",
              "       [97, 74, 75, 23,  0, 50],\n",
              "       [80, 77, 38, 21, 50,  0]])"
            ]
          },
          "metadata": {},
          "execution_count": 2
        }
      ],
      "source": [
        "cities = [0, 1, 2, 3, 4, 5]\n",
        "cities_peso = np.zeros((6,6), dtype=int)\n",
        "\n",
        "for i in range(6):\n",
        "    for j in range(6):\n",
        "        if i == j:\n",
        "            cities_peso[i][j] = 0\n",
        "        else:\n",
        "            peso = np.random.randint(1,100)\n",
        "            cities_peso[i][j] = cities_peso[j][i] = peso\n",
        "cities_peso"
      ]
    },
    {
      "cell_type": "code",
      "execution_count": 43,
      "metadata": {
        "colab": {
          "base_uri": "https://localhost:8080/"
        },
        "id": "RsncFZnGahRb",
        "outputId": "53644807-cfa4-4be6-90cd-3ee4246998a1"
      },
      "outputs": [
        {
          "output_type": "execute_result",
          "data": {
            "text/plain": [
              "array([[0, 4, 2, 5, 3, 1, 0],\n",
              "       [0, 1, 3, 5, 4, 2, 0],\n",
              "       [0, 4, 3, 2, 1, 5, 0],\n",
              "       [0, 3, 4, 2, 5, 1, 0],\n",
              "       [0, 4, 2, 3, 5, 1, 0],\n",
              "       [0, 4, 2, 3, 1, 5, 0],\n",
              "       [0, 2, 1, 5, 4, 3, 0],\n",
              "       [0, 2, 1, 4, 5, 3, 0],\n",
              "       [0, 5, 2, 4, 1, 3, 0],\n",
              "       [0, 4, 3, 2, 1, 5, 0]])"
            ]
          },
          "metadata": {},
          "execution_count": 43
        }
      ],
      "source": [
        "ind = 10\n",
        "#número de indivíduos\n",
        "\n",
        "rotas = np.zeros((ind,7), dtype=int)\n",
        "#o tamanho do array é descrito como a quantidade de indivíduos X rotas possíveis indo de 0 e retornando em 0 também\n",
        "\n",
        "for i in range(ind):\n",
        "    for j in range(6):\n",
        "        city = np.random.randint(1,6)\n",
        "        if j == 0 or j==6:\n",
        "            rotas[i][j] = 0\n",
        "        elif city in rotas[i]:    \n",
        "          while city in rotas[i]:\n",
        "                city = np.random.randint(1,6)\n",
        "          rotas[i][j] = city\n",
        "        else:\n",
        "           rotas[i][j] = city\n",
        "rotas"
      ]
    }
  ],
  "metadata": {
    "interpreter": {
      "hash": "a06e30aee820ff8fe24fb428cece021c5cdfc4bd84062afc0eba853e87fef366"
    },
    "kernelspec": {
      "display_name": "Python 3",
      "language": "python",
      "name": "python3"
    },
    "language_info": {
      "codemirror_mode": {
        "name": "ipython",
        "version": 3
      },
      "file_extension": ".py",
      "mimetype": "text/x-python",
      "name": "python",
      "nbconvert_exporter": "python",
      "pygments_lexer": "ipython3",
      "version": "3.8.8"
    },
    "colab": {
      "name": "caixeiro_viajante.ipynb",
      "provenance": [],
      "collapsed_sections": [],
      "include_colab_link": true
    }
  },
  "nbformat": 4,
  "nbformat_minor": 0
}